{
 "cells": [
  {
   "cell_type": "code",
   "execution_count": 3,
   "metadata": {},
   "outputs": [],
   "source": [
    "import json\n",
    "import os\n",
    "import re\n",
    "import requests\n",
    "import wget\n",
    "from tqdm import tqdm"
   ]
  },
  {
   "cell_type": "code",
   "execution_count": 4,
   "metadata": {},
   "outputs": [],
   "source": [
    "API_KEY = \"...\"\n",
    "DATASET_NAME = \"s2orc\"\n",
    "LOCAL_PATH = \"data\"\n",
    "os.makedirs(LOCAL_PATH, exist_ok=True)"
   ]
  },
  {
   "cell_type": "code",
   "execution_count": 5,
   "metadata": {},
   "outputs": [
    {
     "name": "stdout",
     "output_type": "stream",
     "text": [
      "Latest release ID: 2025-02-04\n"
     ]
    }
   ],
   "source": [
    "# get latest release's ID\n",
    "response = requests.get(\"https://api.semanticscholar.org/datasets/v1/release/latest\").json()\n",
    "RELEASE_ID = response[\"release_id\"]\n",
    "print(f\"Latest release ID: {RELEASE_ID}\")\n"
   ]
  },
  {
   "cell_type": "code",
   "execution_count": 7,
   "metadata": {},
   "outputs": [
    {
     "data": {
      "text/plain": [
       "{'message': 'Forbidden'}"
      ]
     },
     "execution_count": 7,
     "metadata": {},
     "output_type": "execute_result"
    }
   ],
   "source": [
    "response = requests.get(f\"https://api.semanticscholar.org/datasets/v1/release/{RELEASE_ID}/dataset/{DATASET_NAME}/\", headers={\"x-api-key\": API_KEY}).json()\n",
    "response"
   ]
  },
  {
   "cell_type": "code",
   "execution_count": null,
   "metadata": {},
   "outputs": [],
   "source": [
    "for url in tqdm(response[\"files\"]):\n",
    "    match = re.match(r\"https://ai2-s2ag.s3.amazonaws.com/staging/(.*)/s2orc/(.*).gz(.*)\", url)\n",
    "    assert match.group(1) == RELEASE_ID\n",
    "    SHARD_ID = match.group(2)\n",
    "    wget.download(url, out=os.path.join(LOCAL_PATH, f\"{SHARD_ID}.gz\"))\n",
    "print(\"Downloaded all shards.\")"
   ]
  }
 ],
 "metadata": {
  "kernelspec": {
   "display_name": "Python 3",
   "language": "python",
   "name": "python3"
  },
  "language_info": {
   "codemirror_mode": {
    "name": "ipython",
    "version": 3
   },
   "file_extension": ".py",
   "mimetype": "text/x-python",
   "name": "python",
   "nbconvert_exporter": "python",
   "pygments_lexer": "ipython3",
   "version": "3.10.12"
  }
 },
 "nbformat": 4,
 "nbformat_minor": 2
}
