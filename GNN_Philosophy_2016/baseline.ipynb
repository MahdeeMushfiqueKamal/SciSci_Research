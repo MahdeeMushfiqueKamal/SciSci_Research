{
 "cells": [
  {
   "cell_type": "code",
   "execution_count": 3,
   "metadata": {},
   "outputs": [],
   "source": [
    "import pandas as pd "
   ]
  },
  {
   "cell_type": "code",
   "execution_count": 5,
   "metadata": {},
   "outputs": [
    {
     "name": "stdout",
     "output_type": "stream",
     "text": [
      "Philosophy_2000_15_edges.csv\t       PhilosophyPapers_2000_15.csv\n",
      "Philosophy_2016_edges.csv\t       PhilosophyPapers_2016.csv\n",
      "PhilosophyAuthors_2000_16_Profile.csv\n"
     ]
    }
   ],
   "source": [
    "!cd data && ls"
   ]
  },
  {
   "cell_type": "code",
   "execution_count": 6,
   "metadata": {},
   "outputs": [
    {
     "name": "stdout",
     "output_type": "stream",
     "text": [
      "<class 'pandas.core.frame.DataFrame'>\n",
      "RangeIndex: 1000 entries, 0 to 999\n",
      "Data columns (total 13 columns):\n",
      " #   Column               Non-Null Count  Dtype  \n",
      "---  ------               --------------  -----  \n",
      " 0   AuthorID             1000 non-null   int64  \n",
      " 1   Avg_Reference_Count  1000 non-null   float64\n",
      " 2   Avg_Citation_Count   0 non-null      float64\n",
      " 3   Avg_C5               1000 non-null   int64  \n",
      " 4   Avg_Log10_C5         1000 non-null   int64  \n",
      " 5   Max_C5               1000 non-null   int64  \n",
      " 6   Avg_Disruption       1000 non-null   float64\n",
      " 7   Avg_WSB_Cinf         34 non-null     float64\n",
      " 8   Avg_WSB_mu           0 non-null      float64\n",
      " 9   Avg_WSB_sigma        0 non-null      float64\n",
      " 10  Avg_SB_B             34 non-null     float64\n",
      " 11  Avg_SB_T             1000 non-null   float64\n",
      " 12  Total_NSF_Count      0 non-null      float64\n",
      "dtypes: float64(9), int64(4)\n",
      "memory usage: 101.7 KB\n"
     ]
    }
   ],
   "source": [
    "authors = pd.read_csv('data/PhilosophyAuthors_2000_16_Profile.csv')\n",
    "authors.info()"
   ]
  },
  {
   "cell_type": "code",
   "execution_count": 7,
   "metadata": {},
   "outputs": [
    {
     "name": "stdout",
     "output_type": "stream",
     "text": [
      "<class 'pandas.core.frame.DataFrame'>\n",
      "RangeIndex: 559366 entries, 0 to 559365\n",
      "Data columns (total 2 columns):\n",
      " #   Column   Non-Null Count   Dtype\n",
      "---  ------   --------------   -----\n",
      " 0   PaperID  559366 non-null  int64\n",
      " 1   C5       559366 non-null  int64\n",
      "dtypes: int64(2)\n",
      "memory usage: 8.5 MB\n"
     ]
    }
   ],
   "source": [
    "train_papers = pd.read_csv('data/PhilosophyPapers_2000_15.csv')\n",
    "train_papers.info()"
   ]
  },
  {
   "cell_type": "code",
   "execution_count": 8,
   "metadata": {},
   "outputs": [
    {
     "name": "stdout",
     "output_type": "stream",
     "text": [
      "<class 'pandas.core.frame.DataFrame'>\n",
      "RangeIndex: 673231 entries, 0 to 673230\n",
      "Data columns (total 2 columns):\n",
      " #   Column    Non-Null Count   Dtype\n",
      "---  ------    --------------   -----\n",
      " 0   AuthorID  673231 non-null  int64\n",
      " 1   PaperID   673231 non-null  int64\n",
      "dtypes: int64(2)\n",
      "memory usage: 10.3 MB\n"
     ]
    }
   ],
   "source": [
    "train_edges = pd.read_csv('data/Philosophy_2000_15_edges.csv')\n",
    "train_edges.info()"
   ]
  },
  {
   "cell_type": "code",
   "execution_count": 9,
   "metadata": {},
   "outputs": [
    {
     "name": "stdout",
     "output_type": "stream",
     "text": [
      "<class 'pandas.core.frame.DataFrame'>\n",
      "RangeIndex: 49654 entries, 0 to 49653\n",
      "Data columns (total 2 columns):\n",
      " #   Column   Non-Null Count  Dtype\n",
      "---  ------   --------------  -----\n",
      " 0   PaperID  49654 non-null  int64\n",
      " 1   C5       49654 non-null  int64\n",
      "dtypes: int64(2)\n",
      "memory usage: 776.0 KB\n"
     ]
    }
   ],
   "source": [
    "test_papers = pd.read_csv('data/PhilosophyPapers_2016.csv')\n",
    "test_papers.info()"
   ]
  },
  {
   "cell_type": "code",
   "execution_count": 10,
   "metadata": {},
   "outputs": [
    {
     "name": "stdout",
     "output_type": "stream",
     "text": [
      "<class 'pandas.core.frame.DataFrame'>\n",
      "RangeIndex: 61440 entries, 0 to 61439\n",
      "Data columns (total 2 columns):\n",
      " #   Column    Non-Null Count  Dtype\n",
      "---  ------    --------------  -----\n",
      " 0   AuthorID  61440 non-null  int64\n",
      " 1   PaperID   61440 non-null  int64\n",
      "dtypes: int64(2)\n",
      "memory usage: 960.1 KB\n"
     ]
    }
   ],
   "source": [
    "test_edges = pd.read_csv('data/Philosophy_2016_edges.csv')\n",
    "test_edges.info()"
   ]
  },
  {
   "cell_type": "code",
   "execution_count": null,
   "metadata": {},
   "outputs": [],
   "source": []
  }
 ],
 "metadata": {
  "kernelspec": {
   "display_name": "venv",
   "language": "python",
   "name": "python3"
  },
  "language_info": {
   "codemirror_mode": {
    "name": "ipython",
    "version": 3
   },
   "file_extension": ".py",
   "mimetype": "text/x-python",
   "name": "python",
   "nbconvert_exporter": "python",
   "pygments_lexer": "ipython3",
   "version": "3.12.3"
  }
 },
 "nbformat": 4,
 "nbformat_minor": 2
}
